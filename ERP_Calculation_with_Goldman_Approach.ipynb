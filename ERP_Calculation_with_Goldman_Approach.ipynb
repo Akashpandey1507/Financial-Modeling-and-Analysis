{
  "nbformat": 4,
  "nbformat_minor": 0,
  "metadata": {
    "colab": {
      "provenance": [],
      "authorship_tag": "ABX9TyOHGJlsAXpRgdonlTNWtvrk",
      "include_colab_link": true
    },
    "kernelspec": {
      "name": "python3",
      "display_name": "Python 3"
    },
    "language_info": {
      "name": "python"
    }
  },
  "cells": [
    {
      "cell_type": "markdown",
      "metadata": {
        "id": "view-in-github",
        "colab_type": "text"
      },
      "source": [
        "<a href=\"https://colab.research.google.com/github/Akashpandey1507/Financial-Modeling-and-Analysis/blob/main/ERP_Calculation_with_Goldman_Approach.ipynb\" target=\"_parent\"><img src=\"https://colab.research.google.com/assets/colab-badge.svg\" alt=\"Open In Colab\"/></a>"
      ]
    },
    {
      "cell_type": "markdown",
      "source": [
        "# ERP Calculation with Goldman Sach Approach\n"
      ],
      "metadata": {
        "id": "rUJQAp5GWw68"
      }
    },
    {
      "cell_type": "code",
      "source": [
        "import pandas as pd\n",
        "import yfinance as yf\n",
        "import datetime as dt  #Import the libraries"
      ],
      "metadata": {
        "id": "j27dPtFnUFSH"
      },
      "execution_count": 75,
      "outputs": []
    },
    {
      "cell_type": "code",
      "source": [
        "year = 2000\n",
        "starts = dt.date(year,1,1)\n",
        "ends = dt.datetime.now()\n",
        "# input the date or period"
      ],
      "metadata": {
        "id": "PkUhL8FCUHSu"
      },
      "execution_count": 76,
      "outputs": []
    },
    {
      "cell_type": "code",
      "source": [
        "nifty50 = yf.download('^NSEI', start=starts, end=ends)['Close'] # nifty 50 data from yahoofinance\n",
        "sp500 = yf.download('^GSPC', start=starts, end=ends)['Close'] # s&p500 data from yahoo finance"
      ],
      "metadata": {
        "colab": {
          "base_uri": "https://localhost:8080/"
        },
        "id": "e85gaerSUHQG",
        "outputId": "8fb915cf-aa4f-4b1a-e9a7-ed69f344e176"
      },
      "execution_count": 77,
      "outputs": [
        {
          "output_type": "stream",
          "name": "stderr",
          "text": [
            "[*********************100%%**********************]  1 of 1 completed\n",
            "[*********************100%%**********************]  1 of 1 completed\n"
          ]
        }
      ]
    },
    {
      "cell_type": "code",
      "source": [
        "# calculate the return\n",
        "nifty50_daily_return = nifty50.pct_change()\n",
        "sp500_daily_return = sp500.pct_change()"
      ],
      "metadata": {
        "id": "KSjaRuzuUHNW"
      },
      "execution_count": 78,
      "outputs": []
    },
    {
      "cell_type": "code",
      "source": [
        "# calculate the daily std\n",
        "nifty50_daily_std = nifty50_daily_return.std()\n",
        "sp500_daily_std = sp500_daily_return.std()"
      ],
      "metadata": {
        "id": "d9mSgxuxUHKm"
      },
      "execution_count": 79,
      "outputs": []
    },
    {
      "cell_type": "code",
      "source": [
        "# convert into annualised std\n",
        "nifty50_annualised_std = nifty50_daily_std * (252**0.5) *100\n",
        "sp500_annualised_std = sp500_daily_std * (252**0.5) * 100"
      ],
      "metadata": {
        "id": "akK1XiTYUU2c"
      },
      "execution_count": 80,
      "outputs": []
    },
    {
      "cell_type": "code",
      "source": [
        "print(f'Nifty 50 Daily Return: {nifty50_daily_return.mean():.4f}')\n",
        "print(f'S&P 500 Daily Return: {sp500_daily_return.mean():.4f}')"
      ],
      "metadata": {
        "colab": {
          "base_uri": "https://localhost:8080/"
        },
        "id": "LLf8OPEmUW-T",
        "outputId": "18fd5967-0286-4d90-96a5-c45c74b74731"
      },
      "execution_count": 81,
      "outputs": [
        {
          "output_type": "stream",
          "name": "stdout",
          "text": [
            "Nifty 50 Daily Return: 0.0005\n",
            "S&P 500 Daily Return: 0.0003\n"
          ]
        }
      ]
    },
    {
      "cell_type": "code",
      "source": [
        "print(f'Nifty 50 Daily Standard Deviation: {nifty50_daily_std:.4f}')\n",
        "print(f'S&P 500 Daily Standard Deviation: {sp500_daily_std:.4f}')"
      ],
      "metadata": {
        "colab": {
          "base_uri": "https://localhost:8080/"
        },
        "id": "392o61MeUW7r",
        "outputId": "10746711-951f-4de7-e853-15356a0653e4"
      },
      "execution_count": 82,
      "outputs": [
        {
          "output_type": "stream",
          "name": "stdout",
          "text": [
            "Nifty 50 Daily Standard Deviation: 0.0134\n",
            "S&P 500 Daily Standard Deviation: 0.0123\n"
          ]
        }
      ]
    },
    {
      "cell_type": "code",
      "source": [
        "print(f'Nifty 50 Annualised Standard Deviation: {nifty50_annualised_std:.4f}')\n",
        "print(f'S&P 500 Annualised Standard Deviation: {sp500_annualised_std:.4f}')"
      ],
      "metadata": {
        "colab": {
          "base_uri": "https://localhost:8080/"
        },
        "id": "P8SU86rpUa50",
        "outputId": "9a97e20b-0450-498f-d78b-d45b69bf6d06"
      },
      "execution_count": 83,
      "outputs": [
        {
          "output_type": "stream",
          "name": "stdout",
          "text": [
            "Nifty 50 Annualised Standard Deviation: 21.2974\n",
            "S&P 500 Annualised Standard Deviation: 19.5137\n"
          ]
        }
      ]
    },
    {
      "cell_type": "code",
      "source": [
        "USAerp = 4.15\n",
        "\n",
        "india_erp = USAerp * (nifty50_annualised_std / sp500_annualised_std)\n",
        "print(f'The Equity Risk Premium for India as per Gold Man Sach Approach is: {india_erp:.4f}')"
      ],
      "metadata": {
        "colab": {
          "base_uri": "https://localhost:8080/"
        },
        "id": "hydgYN99Up1e",
        "outputId": "9e279708-1d96-4534-9986-d5cb5662d5df"
      },
      "execution_count": 84,
      "outputs": [
        {
          "output_type": "stream",
          "name": "stdout",
          "text": [
            "The Equity Risk Premium for India as per Gold Man Sach Approach is: 4.5294\n"
          ]
        }
      ]
    },
    {
      "cell_type": "code",
      "source": [
        "ds = round(india_erp - USAerp,2)\n",
        "print(f'The Default Spread for India as per Gold Man Sach Approach is: {ds:.2f}%')"
      ],
      "metadata": {
        "colab": {
          "base_uri": "https://localhost:8080/"
        },
        "id": "UKEE6s5PWEIo",
        "outputId": "e2e2cd68-cb58-4333-d22c-75f1966fadc6"
      },
      "execution_count": 88,
      "outputs": [
        {
          "output_type": "stream",
          "name": "stdout",
          "text": [
            "The Default Spread for India as per Gold Man Sach Approach is: 0.38%\n"
          ]
        }
      ]
    }
  ]
}